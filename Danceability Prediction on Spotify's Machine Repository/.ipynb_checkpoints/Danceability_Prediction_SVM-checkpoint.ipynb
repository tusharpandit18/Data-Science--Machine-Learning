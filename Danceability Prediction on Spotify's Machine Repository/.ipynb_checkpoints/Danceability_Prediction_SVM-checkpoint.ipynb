{
 "cells": [
  {
   "cell_type": "markdown",
   "metadata": {},
   "source": [
    "# Read the data set"
   ]
  },
  {
   "cell_type": "code",
   "execution_count": null,
   "metadata": {
    "collapsed": false,
    "scrolled": false
   },
   "outputs": [],
   "source": [
    "import pandas as pd\n",
    "data = pd.read_csv('Danceability_Prediction_Spotify.csv', sep=',')"
   ]
  },
  {
   "cell_type": "markdown",
   "metadata": {},
   "source": [
    "# Convert all the dataset values to the numeric data"
   ]
  },
  {
   "cell_type": "code",
   "execution_count": null,
   "metadata": {
    "collapsed": false
   },
   "outputs": [],
   "source": [
    "for c in data.columns:\n",
    "        data[c] = pd.to_numeric(data[c], errors='coerce')"
   ]
  },
  {
   "cell_type": "markdown",
   "metadata": {},
   "source": [
    "# Convert all column values in the range of 0 to 1\n"
   ]
  },
  {
   "cell_type": "code",
   "execution_count": null,
   "metadata": {
    "collapsed": false
   },
   "outputs": [],
   "source": [
    "df_norm = data.sub(data.min()).div((data.max() - data.min()))\n",
    "data = df_norm\n",
    "data.dance = data.dance.astype(int)"
   ]
  },
  {
   "cell_type": "markdown",
   "metadata": {},
   "source": [
    "# Corelation between features, scatterplot"
   ]
  },
  {
   "cell_type": "code",
   "execution_count": null,
   "metadata": {
    "collapsed": false
   },
   "outputs": [],
   "source": [
    "import numpy as np\n",
    "import matplotlib.pyplot as plot\n",
    "import seaborn as sb\n",
    "sb.set(style='whitegrid', context='notebook')\n",
    "columns = ['energy','key','loudness','mode','speechiness','acousticness','instrumentalness','liveness','valence','tempo','danceability']\n",
    "sb.pairplot(data[columns])\n",
    "plot.show()"
   ]
  },
  {
   "cell_type": "code",
   "execution_count": null,
   "metadata": {
    "collapsed": false
   },
   "outputs": [],
   "source": [
    "import numpy as np\n",
    "import seaborn as sb\n",
    "cor_matrix = np.corrcoef(data[columns].values.T)\n",
    "sb.set(font_scale=1.5)\n",
    "cor_heat_map = sb.heatmap(cor_matrix, cbar=True, annot=True,square=True,fmt='.2f', annot_kws={'size':9},\n",
    "yticklabels=columns,\n",
    "xticklabels=columns)\n",
    "plot.show()\n",
    "data.drop('danceability', axis=1, inplace=True)\n",
    "data.rename(columns={'dance': 'danceability'}, inplace=True)"
   ]
  },
  {
   "cell_type": "markdown",
   "metadata": {},
   "source": [
    "# Corelation by computing the mean"
   ]
  },
  {
   "cell_type": "code",
   "execution_count": null,
   "metadata": {
    "collapsed": false
   },
   "outputs": [],
   "source": [
    "data.groupby('danceability').mean()"
   ]
  },
  {
   "cell_type": "markdown",
   "metadata": {},
   "source": [
    "# Delete the columns having values has NaN values"
   ]
  },
  {
   "cell_type": "code",
   "execution_count": null,
   "metadata": {
    "collapsed": false
   },
   "outputs": [],
   "source": [
    "data = data.loc[:, data.isnull().mean() < 1]"
   ]
  },
  {
   "cell_type": "markdown",
   "metadata": {},
   "source": [
    "# Delete the row values that has NaN values"
   ]
  },
  {
   "cell_type": "code",
   "execution_count": null,
   "metadata": {
    "collapsed": false
   },
   "outputs": [],
   "source": [
    "data.dropna()"
   ]
  },
  {
   "cell_type": "code",
   "execution_count": null,
   "metadata": {
    "collapsed": false
   },
   "outputs": [],
   "source": [
    "features = ['energy','valence','loudness','acousticness']"
   ]
  },
  {
   "cell_type": "markdown",
   "metadata": {},
   "source": [
    "# Selecting feature vectors and class label"
   ]
  },
  {
   "cell_type": "code",
   "execution_count": null,
   "metadata": {
    "collapsed": false
   },
   "outputs": [],
   "source": [
    "X = data[features].values\n",
    "y = data['danceability']"
   ]
  },
  {
   "cell_type": "markdown",
   "metadata": {},
   "source": [
    "# Plot features in multiple dimentions"
   ]
  },
  {
   "cell_type": "code",
   "execution_count": null,
   "metadata": {
    "collapsed": false
   },
   "outputs": [],
   "source": [
    "from mpl_toolkits.mplot3d import Axes3D\n",
    "import matplotlib.pyplot as plt\n",
    "\n",
    "fig = plt.figure(figsize=(20,10))\n",
    "ax = fig.add_subplot(111, projection='3d')\n",
    "ax.set_facecolor('blue')\n",
    "ax.patch.set_alpha(0.2)\n",
    "sp = ax.scatter(X[:,0], X[:,1], X[:,2], c=X[:,3], cmap=plt.hot())\n",
    "plt.colorbar(sp)\n",
    "ax.set_xlabel('Energy')\n",
    "ax.set_ylabel('Valence')\n",
    "ax.set_zlabel('Loudness')\n",
    "plt.show()"
   ]
  },
  {
   "cell_type": "markdown",
   "metadata": {},
   "source": [
    "# Apply kernels to the SVM classfier without PCA"
   ]
  },
  {
   "cell_type": "code",
   "execution_count": null,
   "metadata": {
    "collapsed": false
   },
   "outputs": [],
   "source": [
    "from sklearn import datasets, svm\n",
    "from sklearn.model_selection import train_test_split\n",
    "from sklearn.metrics import confusion_matrix\n",
    "from sklearn.model_selection import cross_val_score\n",
    "from sklearn import decomposition\n",
    "\n",
    "columns = ['energy','key','loudness','mode','speechiness','acousticness','instrumentalness','liveness','valence','tempo']\n",
    "\n",
    "X = data[features].values\n",
    "y = data['danceability']\n",
    "\n",
    "X_train, X_test, y_train, y_test = train_test_split(\n",
    "    X, y, test_size=0.3, random_state=0)\n",
    "\n",
    "CV = 5\n",
    "\n",
    "linear_svc = svm.SVC(kernel='linear', C=1)\n",
    "scores = cross_val_score(linear_svc, X_train, y_train, cv=CV)\n",
    "print(\"Training Accuracy(Linear Kernel) without PCA : %0.2f \" % (scores.mean()))\n",
    "\n",
    "rbf_svc = svm.SVC(kernel='rbf', gamma=0.6, C=1)\n",
    "scores = cross_val_score(rbf_svc, X_train, y_train, cv=CV)\n",
    "print(\"Training Accuracy(RBF Kernel) without PCA : %0.2f \" % (scores.mean()))\n",
    "\n",
    "poly_svc = svm.SVC(kernel='poly',degree=3, C=1)\n",
    "scores = cross_val_score(poly_svc, X_train, y_train, cv=CV)\n",
    "print(\"Training Accuracy(Polynomial Kernel) without PCA : %0.2f \" % (scores.mean()))"
   ]
  },
  {
   "cell_type": "code",
   "execution_count": null,
   "metadata": {
    "collapsed": false
   },
   "outputs": [],
   "source": [
    "from sklearn.model_selection import cross_val_predict\n",
    "from sklearn import metrics\n",
    "linear_predicted = cross_val_predict(linear_svc, X_test, y_test, cv=CV)\n",
    "print(\"Testing Accuracy(Linear Kernel) without PCA : %0.2f\" %metrics.accuracy_score(y_test, linear_predicted))\n",
    "\n",
    "\n",
    "rbf_predicted = cross_val_predict(rbf_svc, X_test, y_test, cv=CV)\n",
    "print(\"Testing Accuracy(RBF Kernel) without PCA : %0.2f\" %metrics.accuracy_score(y_test, rbf_predicted))\n",
    "\n",
    "\n",
    "poly_predicted = cross_val_predict(poly_svc, X_test, y_test, cv=CV)\n",
    "print(\"Testing Accuracy(Poly Kernel) without PCA : %0.2f\" %metrics.accuracy_score(y_test, poly_predicted))"
   ]
  },
  {
   "cell_type": "markdown",
   "metadata": {},
   "source": [
    "# Apply kernels to the SVM classfier with PCA"
   ]
  },
  {
   "cell_type": "code",
   "execution_count": null,
   "metadata": {
    "collapsed": false
   },
   "outputs": [],
   "source": [
    "from sklearn import datasets, svm\n",
    "from sklearn.model_selection import train_test_split\n",
    "from sklearn.metrics import confusion_matrix\n",
    "from sklearn.model_selection import cross_val_score\n",
    "from sklearn import decomposition\n",
    "\n",
    "X = data[columns].values\n",
    "y = data['danceability']\n",
    "\n",
    "X_train, X_test, y_train, y_test = train_test_split(\n",
    "    X, y, test_size=0.3, random_state=0)\n",
    "\n",
    "CV = 5\n",
    "\n",
    "pca = decomposition.PCA(n_components=10)\n",
    "pca.fit(X_train)\n",
    "X_train = pca.transform(X_train)\n",
    "\n",
    "linear_svc = svm.SVC(kernel='linear', C=1)\n",
    "scores = cross_val_score(linear_svc, X_train, y_train, cv=CV)\n",
    "print(\"Training Accuracy(Linear Kernel) with PCA : %0.2f \" % (scores.mean()))\n",
    "\n",
    "rbf_svc = svm.SVC(kernel='rbf', gamma=0.6, C=1)\n",
    "scores = cross_val_score(rbf_svc, X_train, y_train, cv=CV)\n",
    "print(\"Training Accuracy(RBF Kernel) with PCA : %0.2f \" % (scores.mean()))\n",
    "\n",
    "poly_svc = svm.SVC(kernel='poly',degree=3, C=1)\n",
    "scores = cross_val_score(poly_svc, X_train, y_train, cv=CV)\n",
    "print(\"Training Accuracy(Polynomial Kernel) with PCA : %0.2f \" % (scores.mean()))"
   ]
  },
  {
   "cell_type": "code",
   "execution_count": null,
   "metadata": {
    "collapsed": false
   },
   "outputs": [],
   "source": [
    "pca = decomposition.PCA(n_components=10)\n",
    "pca.fit(X_test)\n",
    "X_test = pca.transform(X_test)\n",
    "\n",
    "linear_predicted = cross_val_predict(linear_svc, X_test, y_test, cv=CV)\n",
    "print(\"Testing Accuracy(Linear Kernel) with PCA : %0.2f\" %metrics.accuracy_score(y_test, linear_predicted))\n",
    "\n",
    "rbf_predicted = cross_val_predict(rbf_svc, X_test, y_test, cv=CV)\n",
    "print(\"Testing Accuracy(RBF Kernel) with PCA : %0.2f\" %metrics.accuracy_score(y_test, rbf_predicted))\n",
    "\n",
    "poly_predicted = cross_val_predict(poly_svc, X_test, y_test, cv=CV)\n",
    "print(\"Testing Accuracy(Poly Kernel) without PCA : %0.2f\" %metrics.accuracy_score(y_test, poly_predicted))\n"
   ]
  },
  {
   "cell_type": "markdown",
   "metadata": {},
   "source": [
    "# Find the best parameters by applying Grid Search on the SVM classifier"
   ]
  },
  {
   "cell_type": "code",
   "execution_count": null,
   "metadata": {
    "collapsed": false
   },
   "outputs": [],
   "source": [
    "from sklearn.model_selection import GridSearchCV\n",
    "from sklearn.metrics import classification_report\n",
    "from sklearn.svm import SVC\n",
    "\n",
    "tuned_parameters = [{'kernel': ['rbf'], 'gamma': [1e-2, 0,0.1,1e-4,1e-5],\n",
    "                     'C': [1, 10, 100, 1000,10000, 100000]},\n",
    "                    {'kernel': ['poly'], 'degree': [2,3,4],\n",
    "                     'C': [1, 10, 100]},\n",
    "                     {'kernel': ['linear'], 'C': [1, 10, 100, 1000]}]\n",
    "\n",
    "scores = ['accuracy']\n",
    "\n",
    "X = data[features].values\n",
    "y = data['danceability']\n",
    "\n",
    "X_train, X_test, y_train, y_test = train_test_split(\n",
    "    X, y, test_size=0.3, random_state=0)\n",
    "\n",
    "for score in scores:\n",
    "    print(\"# Tuning hyper-parameters for %s\" % score)\n",
    "\n",
    "    clf = GridSearchCV(SVC(), tuned_parameters, cv=CV,\n",
    "                       scoring='%s' % score)\n",
    "    clf.fit(X_train, y_train)\n",
    "    print(\"Best parameters set found on the dataset:\")\n",
    "    print(clf.best_params_)\n",
    "    print(\"Grid scores on data set:\")\n",
    "    means = clf.cv_results_['mean_test_score']\n",
    "    stds = clf.cv_results_['std_test_score']\n",
    "    for mean, std, params in zip(means, stds, clf.cv_results_['params']):\n",
    "        print(\"%0.3f (+/-%0.03f) for %r\"\n",
    "              % (mean, std * 2, params))\n",
    "\n",
    "    print(\"--------- Detailed classification report without PCA ---------\")\n",
    "    print(\"The scores are computed on the dataset.\")\n",
    "    y_true, y_pred = y_test, clf.predict(X_test)\n",
    "    print(classification_report(y_true, y_pred))\n",
    "    print(\"------------------------------------------------------\")"
   ]
  },
  {
   "cell_type": "markdown",
   "metadata": {
    "collapsed": true
   },
   "source": [
    "# Apply the params found in the step above and find the accuracy without PCA"
   ]
  },
  {
   "cell_type": "code",
   "execution_count": null,
   "metadata": {
    "collapsed": false
   },
   "outputs": [],
   "source": [
    "X = data[features].values\n",
    "y = data['danceability']\n",
    "\n",
    "X_train, X_test, y_train, y_test = train_test_split(\n",
    "    X, y, test_size=0.3, random_state=0)\n",
    "rbf_svc = svm.SVC(kernel='rbf', gamma=0.01, C=10)\n",
    "scores = cross_val_score(rbf_svc, X_train, y_train, cv=CV)\n",
    "print(\"Training Accuracy(RBF Kernel) after Grid Search without PCA : %0.2f \" % (scores.mean()))"
   ]
  },
  {
   "cell_type": "code",
   "execution_count": null,
   "metadata": {
    "collapsed": false
   },
   "outputs": [],
   "source": [
    "rbf_predicted = cross_val_predict(rbf_svc, X_test, y_test, cv=CV)\n",
    "print(\"Test Accuracy(RBF Kernel) after Grid Search without PCA : %0.2f\" %metrics.accuracy_score(y_test, rbf_predicted))"
   ]
  },
  {
   "cell_type": "markdown",
   "metadata": {},
   "source": [
    "# Apply the params found in the step above and find the accuracy with PCA"
   ]
  },
  {
   "cell_type": "code",
   "execution_count": null,
   "metadata": {
    "collapsed": false
   },
   "outputs": [],
   "source": [
    "X = data[columns].values\n",
    "y = data['danceability']\n",
    "\n",
    "X_train, X_test, y_train, y_test = train_test_split(\n",
    "    X, y, test_size=0.3, random_state=0)\n",
    "\n",
    "pca = decomposition.PCA(n_components=10)\n",
    "pca.fit(X_train)\n",
    "X_train = pca.transform(X_train)\n",
    "\n",
    "rbf_svc = svm.SVC(kernel='rbf', gamma=0.01, C=10)\n",
    "scores = cross_val_score(rbf_svc, X_train, y_train, cv=CV)\n",
    "print(\"Training Accuracy(RBF Kernel) after Grid Search with PCA : %0.2f \" % (scores.mean()))"
   ]
  },
  {
   "cell_type": "code",
   "execution_count": null,
   "metadata": {
    "collapsed": false
   },
   "outputs": [],
   "source": [
    "pca = decomposition.PCA(n_components=10)\n",
    "pca.fit(X_test)\n",
    "X_test = pca.transform(X_test)\n",
    "\n",
    "rbf_predicted = cross_val_predict(rbf_svc, X_test, y_test, cv=CV)\n",
    "print(\"Test Accuracy(RBF Kernel) after Grid Search with PCA : %0.2f\" %metrics.accuracy_score(y_test, rbf_predicted))"
   ]
  },
  {
   "cell_type": "code",
   "execution_count": null,
   "metadata": {
    "collapsed": true
   },
   "outputs": [],
   "source": []
  },
  {
   "cell_type": "code",
   "execution_count": null,
   "metadata": {
    "collapsed": true
   },
   "outputs": [],
   "source": []
  },
  {
   "cell_type": "code",
   "execution_count": null,
   "metadata": {
    "collapsed": true
   },
   "outputs": [],
   "source": []
  }
 ],
 "metadata": {
  "kernelspec": {
   "display_name": "Python 2",
   "language": "python",
   "name": "python2"
  },
  "language_info": {
   "codemirror_mode": {
    "name": "ipython",
    "version": 2
   },
   "file_extension": ".py",
   "mimetype": "text/x-python",
   "name": "python",
   "nbconvert_exporter": "python",
   "pygments_lexer": "ipython2",
   "version": "2.7.11"
  }
 },
 "nbformat": 4,
 "nbformat_minor": 2
}
